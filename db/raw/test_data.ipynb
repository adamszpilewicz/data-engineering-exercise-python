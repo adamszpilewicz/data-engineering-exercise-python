{
 "cells": [
  {
   "cell_type": "code",
   "execution_count": 1,
   "metadata": {
    "collapsed": true
   },
   "outputs": [],
   "source": [
    "import pandas as pd"
   ]
  },
  {
   "cell_type": "code",
   "execution_count": 2,
   "outputs": [],
   "source": [
    "df = pd.read_json(\"./Posts.json\")\n"
   ],
   "metadata": {
    "collapsed": false,
    "pycharm": {
     "name": "#%%\n"
    }
   }
  },
  {
   "cell_type": "code",
   "execution_count": 5,
   "outputs": [
    {
     "data": {
      "text/plain": "   Id  OwnerUserId  LastEditorUserId  PostTypeId  AcceptedAnswerId  Score  \\\n0   1          3.0             210.0           1              52.0     18   \n1   2          3.0             210.0           1              11.0     16   \n2   3         20.0             210.0           1             242.0     45   \n3   4          6.0               6.0           1               NaN     10   \n4   5          2.0               NaN           2               NaN      6   \n\n   ViewCount  AnswerCount  CommentCount LastEditorDisplayName  ...  \\\n0      395.0          3.0             1                        ...   \n1      359.0          2.0             2                        ...   \n2     4704.0          7.0             2                        ...   \n3      218.0          2.0             7                        ...   \n4        NaN          NaN             2                        ...   \n\n  ContentLIcense                                               Body  \\\n0   CC BY-SA 4.0  <p><a href=\"https://jenkins.io/\" rel=\"nofollow...   \n1   CC BY-SA 3.0  <p>I'd like to order backup of data to be copi...   \n2   CC BY-SA 3.0  <p>I see that whenever someone does DevOps, it...   \n3   CC BY-SA 4.0  <p>I assume that an organization wishing to do...   \n4   CC BY-SA 3.0  <p>In short: the community. I developed a Jenk...   \n\n  FavoriteCount             CreationDate             LastEditDate  \\\n0           1.0  2017-02-28T16:47:57.887  2019-12-25T12:13:50.917   \n1           NaN  2017-02-28T16:51:30.533  2019-12-25T12:14:36.980   \n2          15.0  2017-02-28T16:53:01.960  2019-12-25T12:15:12.310   \n3           2.0  2017-02-28T16:54:11.810  2019-12-25T16:42:53.183   \n4           NaN  2017-02-28T16:54:32.700                      NaN   \n\n          LastActivityDate ParentId ClosedDate  OwnerDisplayName  \\\n0  2019-12-25T12:13:50.917      NaN        NaN               NaN   \n1  2020-02-24T10:25:42.620      NaN        NaN               NaN   \n2  2019-12-25T12:15:12.310      NaN        NaN               NaN   \n3  2019-12-25T16:42:53.183      NaN        NaN               NaN   \n4  2017-02-28T16:54:32.700      1.0        NaN               NaN   \n\n  CommunityOwnedDate  \n0                NaN  \n1                NaN  \n2                NaN  \n3                NaN  \n4                NaN  \n\n[5 rows x 22 columns]",
      "text/html": "<div>\n<style scoped>\n    .dataframe tbody tr th:only-of-type {\n        vertical-align: middle;\n    }\n\n    .dataframe tbody tr th {\n        vertical-align: top;\n    }\n\n    .dataframe thead th {\n        text-align: right;\n    }\n</style>\n<table border=\"1\" class=\"dataframe\">\n  <thead>\n    <tr style=\"text-align: right;\">\n      <th></th>\n      <th>Id</th>\n      <th>OwnerUserId</th>\n      <th>LastEditorUserId</th>\n      <th>PostTypeId</th>\n      <th>AcceptedAnswerId</th>\n      <th>Score</th>\n      <th>ViewCount</th>\n      <th>AnswerCount</th>\n      <th>CommentCount</th>\n      <th>LastEditorDisplayName</th>\n      <th>...</th>\n      <th>ContentLIcense</th>\n      <th>Body</th>\n      <th>FavoriteCount</th>\n      <th>CreationDate</th>\n      <th>LastEditDate</th>\n      <th>LastActivityDate</th>\n      <th>ParentId</th>\n      <th>ClosedDate</th>\n      <th>OwnerDisplayName</th>\n      <th>CommunityOwnedDate</th>\n    </tr>\n  </thead>\n  <tbody>\n    <tr>\n      <th>0</th>\n      <td>1</td>\n      <td>3.0</td>\n      <td>210.0</td>\n      <td>1</td>\n      <td>52.0</td>\n      <td>18</td>\n      <td>395.0</td>\n      <td>3.0</td>\n      <td>1</td>\n      <td></td>\n      <td>...</td>\n      <td>CC BY-SA 4.0</td>\n      <td>&lt;p&gt;&lt;a href=\"https://jenkins.io/\" rel=\"nofollow...</td>\n      <td>1.0</td>\n      <td>2017-02-28T16:47:57.887</td>\n      <td>2019-12-25T12:13:50.917</td>\n      <td>2019-12-25T12:13:50.917</td>\n      <td>NaN</td>\n      <td>NaN</td>\n      <td>NaN</td>\n      <td>NaN</td>\n    </tr>\n    <tr>\n      <th>1</th>\n      <td>2</td>\n      <td>3.0</td>\n      <td>210.0</td>\n      <td>1</td>\n      <td>11.0</td>\n      <td>16</td>\n      <td>359.0</td>\n      <td>2.0</td>\n      <td>2</td>\n      <td></td>\n      <td>...</td>\n      <td>CC BY-SA 3.0</td>\n      <td>&lt;p&gt;I'd like to order backup of data to be copi...</td>\n      <td>NaN</td>\n      <td>2017-02-28T16:51:30.533</td>\n      <td>2019-12-25T12:14:36.980</td>\n      <td>2020-02-24T10:25:42.620</td>\n      <td>NaN</td>\n      <td>NaN</td>\n      <td>NaN</td>\n      <td>NaN</td>\n    </tr>\n    <tr>\n      <th>2</th>\n      <td>3</td>\n      <td>20.0</td>\n      <td>210.0</td>\n      <td>1</td>\n      <td>242.0</td>\n      <td>45</td>\n      <td>4704.0</td>\n      <td>7.0</td>\n      <td>2</td>\n      <td></td>\n      <td>...</td>\n      <td>CC BY-SA 3.0</td>\n      <td>&lt;p&gt;I see that whenever someone does DevOps, it...</td>\n      <td>15.0</td>\n      <td>2017-02-28T16:53:01.960</td>\n      <td>2019-12-25T12:15:12.310</td>\n      <td>2019-12-25T12:15:12.310</td>\n      <td>NaN</td>\n      <td>NaN</td>\n      <td>NaN</td>\n      <td>NaN</td>\n    </tr>\n    <tr>\n      <th>3</th>\n      <td>4</td>\n      <td>6.0</td>\n      <td>6.0</td>\n      <td>1</td>\n      <td>NaN</td>\n      <td>10</td>\n      <td>218.0</td>\n      <td>2.0</td>\n      <td>7</td>\n      <td></td>\n      <td>...</td>\n      <td>CC BY-SA 4.0</td>\n      <td>&lt;p&gt;I assume that an organization wishing to do...</td>\n      <td>2.0</td>\n      <td>2017-02-28T16:54:11.810</td>\n      <td>2019-12-25T16:42:53.183</td>\n      <td>2019-12-25T16:42:53.183</td>\n      <td>NaN</td>\n      <td>NaN</td>\n      <td>NaN</td>\n      <td>NaN</td>\n    </tr>\n    <tr>\n      <th>4</th>\n      <td>5</td>\n      <td>2.0</td>\n      <td>NaN</td>\n      <td>2</td>\n      <td>NaN</td>\n      <td>6</td>\n      <td>NaN</td>\n      <td>NaN</td>\n      <td>2</td>\n      <td></td>\n      <td>...</td>\n      <td>CC BY-SA 3.0</td>\n      <td>&lt;p&gt;In short: the community. I developed a Jenk...</td>\n      <td>NaN</td>\n      <td>2017-02-28T16:54:32.700</td>\n      <td>NaN</td>\n      <td>2017-02-28T16:54:32.700</td>\n      <td>1.0</td>\n      <td>NaN</td>\n      <td>NaN</td>\n      <td>NaN</td>\n    </tr>\n  </tbody>\n</table>\n<p>5 rows × 22 columns</p>\n</div>"
     },
     "execution_count": 5,
     "metadata": {},
     "output_type": "execute_result"
    }
   ],
   "source": [
    "df.head()"
   ],
   "metadata": {
    "collapsed": false,
    "pycharm": {
     "name": "#%%\n"
    }
   }
  },
  {
   "cell_type": "code",
   "execution_count": 7,
   "outputs": [
    {
     "data": {
      "text/plain": "          Id  OwnerUserId\n293      309           40\n0          1            1\n7043    9710            1\n7035    9702            1\n7036    9703            1\n...      ...          ...\n3521    3958            1\n3522    3959            1\n3523    3961            1\n3524    3963            1\n10557  14627            1\n\n[10558 rows x 2 columns]",
      "text/html": "<div>\n<style scoped>\n    .dataframe tbody tr th:only-of-type {\n        vertical-align: middle;\n    }\n\n    .dataframe tbody tr th {\n        vertical-align: top;\n    }\n\n    .dataframe thead th {\n        text-align: right;\n    }\n</style>\n<table border=\"1\" class=\"dataframe\">\n  <thead>\n    <tr style=\"text-align: right;\">\n      <th></th>\n      <th>Id</th>\n      <th>OwnerUserId</th>\n    </tr>\n  </thead>\n  <tbody>\n    <tr>\n      <th>293</th>\n      <td>309</td>\n      <td>40</td>\n    </tr>\n    <tr>\n      <th>0</th>\n      <td>1</td>\n      <td>1</td>\n    </tr>\n    <tr>\n      <th>7043</th>\n      <td>9710</td>\n      <td>1</td>\n    </tr>\n    <tr>\n      <th>7035</th>\n      <td>9702</td>\n      <td>1</td>\n    </tr>\n    <tr>\n      <th>7036</th>\n      <td>9703</td>\n      <td>1</td>\n    </tr>\n    <tr>\n      <th>...</th>\n      <td>...</td>\n      <td>...</td>\n    </tr>\n    <tr>\n      <th>3521</th>\n      <td>3958</td>\n      <td>1</td>\n    </tr>\n    <tr>\n      <th>3522</th>\n      <td>3959</td>\n      <td>1</td>\n    </tr>\n    <tr>\n      <th>3523</th>\n      <td>3961</td>\n      <td>1</td>\n    </tr>\n    <tr>\n      <th>3524</th>\n      <td>3963</td>\n      <td>1</td>\n    </tr>\n    <tr>\n      <th>10557</th>\n      <td>14627</td>\n      <td>1</td>\n    </tr>\n  </tbody>\n</table>\n<p>10558 rows × 2 columns</p>\n</div>"
     },
     "execution_count": 7,
     "metadata": {},
     "output_type": "execute_result"
    }
   ],
   "source": [
    "df[[\"Id\", \"OwnerUserId\"]].groupby(by=[\"Id\"], as_index=False).agg({\"OwnerUserId\": len}).sort_values(by=[\"OwnerUserId\"], ascending=False)"
   ],
   "metadata": {
    "collapsed": false,
    "pycharm": {
     "name": "#%%\n"
    }
   }
  },
  {
   "cell_type": "code",
   "execution_count": 12,
   "outputs": [
    {
     "data": {
      "text/plain": "          Id  OwnerUserId\n0          1            1\n7032    9697            1\n7034    9701            1\n7035    9702            1\n7036    9703            1\n...      ...          ...\n3520    3957            1\n3521    3958            1\n3522    3959            1\n3523    3961            1\n10557  14627            1\n\n[10558 rows x 2 columns]",
      "text/html": "<div>\n<style scoped>\n    .dataframe tbody tr th:only-of-type {\n        vertical-align: middle;\n    }\n\n    .dataframe tbody tr th {\n        vertical-align: top;\n    }\n\n    .dataframe thead th {\n        text-align: right;\n    }\n</style>\n<table border=\"1\" class=\"dataframe\">\n  <thead>\n    <tr style=\"text-align: right;\">\n      <th></th>\n      <th>Id</th>\n      <th>OwnerUserId</th>\n    </tr>\n  </thead>\n  <tbody>\n    <tr>\n      <th>0</th>\n      <td>1</td>\n      <td>1</td>\n    </tr>\n    <tr>\n      <th>7032</th>\n      <td>9697</td>\n      <td>1</td>\n    </tr>\n    <tr>\n      <th>7034</th>\n      <td>9701</td>\n      <td>1</td>\n    </tr>\n    <tr>\n      <th>7035</th>\n      <td>9702</td>\n      <td>1</td>\n    </tr>\n    <tr>\n      <th>7036</th>\n      <td>9703</td>\n      <td>1</td>\n    </tr>\n    <tr>\n      <th>...</th>\n      <td>...</td>\n      <td>...</td>\n    </tr>\n    <tr>\n      <th>3520</th>\n      <td>3957</td>\n      <td>1</td>\n    </tr>\n    <tr>\n      <th>3521</th>\n      <td>3958</td>\n      <td>1</td>\n    </tr>\n    <tr>\n      <th>3522</th>\n      <td>3959</td>\n      <td>1</td>\n    </tr>\n    <tr>\n      <th>3523</th>\n      <td>3961</td>\n      <td>1</td>\n    </tr>\n    <tr>\n      <th>10557</th>\n      <td>14627</td>\n      <td>1</td>\n    </tr>\n  </tbody>\n</table>\n<p>10558 rows × 2 columns</p>\n</div>"
     },
     "execution_count": 12,
     "metadata": {},
     "output_type": "execute_result"
    }
   ],
   "source": [
    "df = df.drop_duplicates()\n",
    "df[[\"Id\", \"OwnerUserId\"]].groupby(by=[\"Id\"], as_index=False).agg({\"OwnerUserId\": len}).sort_values(by=[\"OwnerUserId\"], ascending=False)\n",
    "# df[df.Id==309]"
   ],
   "metadata": {
    "collapsed": false,
    "pycharm": {
     "name": "#%%\n"
    }
   }
  },
  {
   "cell_type": "code",
   "execution_count": 14,
   "outputs": [
    {
     "data": {
      "text/plain": "Index(['Id', 'OwnerUserId', 'LastEditorUserId', 'PostTypeId',\n       'AcceptedAnswerId', 'Score', 'ViewCount', 'AnswerCount', 'CommentCount',\n       'LastEditorDisplayName', 'Title', 'Tags', 'ContentLIcense', 'Body',\n       'FavoriteCount', 'CreationDate', 'LastEditDate', 'LastActivityDate',\n       'ParentId', 'ClosedDate', 'OwnerDisplayName', 'CommunityOwnedDate'],\n      dtype='object')"
     },
     "execution_count": 14,
     "metadata": {},
     "output_type": "execute_result"
    }
   ],
   "source": [
    "df.columns"
   ],
   "metadata": {
    "collapsed": false,
    "pycharm": {
     "name": "#%%\n"
    }
   }
  },
  {
   "cell_type": "code",
   "execution_count": null,
   "outputs": [],
   "source": [],
   "metadata": {
    "collapsed": false,
    "pycharm": {
     "name": "#%%\n"
    }
   }
  }
 ],
 "metadata": {
  "kernelspec": {
   "display_name": "Python 3",
   "language": "python",
   "name": "python3"
  },
  "language_info": {
   "codemirror_mode": {
    "name": "ipython",
    "version": 2
   },
   "file_extension": ".py",
   "mimetype": "text/x-python",
   "name": "python",
   "nbconvert_exporter": "python",
   "pygments_lexer": "ipython2",
   "version": "2.7.6"
  }
 },
 "nbformat": 4,
 "nbformat_minor": 0
}